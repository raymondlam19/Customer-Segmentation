{
 "cells": [
  {
   "cell_type": "markdown",
   "metadata": {
    "_uuid": "3f28073bf74ea6b321623db445b0225a6e615041"
   },
   "source": [
    "# Customer Segmentation Analysis"
   ]
  },
  {
   "cell_type": "markdown",
   "metadata": {
    "_uuid": "bde46a8c5c319ff0029867f8512c38940fb89234"
   },
   "source": [
    "### What is Customer Segmentation?"
   ]
  },
  {
   "cell_type": "markdown",
   "metadata": {
    "_uuid": "9e153a17b24f3b29cad720246389de7f466e14a8"
   },
   "source": [
    "Customer segmentation is the process of dividing customers into groups based on common characteristics so companies can market to each group more effectively. The goal of segmenting customers is to decide how to relate to customers in each segment in order to maximize the value of each customer to the business.\n"
   ]
  },
  {
   "cell_type": "markdown",
   "metadata": {
    "_uuid": "791d602771b11f396883b2b9f87c945eb0b41d70"
   },
   "source": [
    "### Why Segment Customers?"
   ]
  },
  {
   "cell_type": "markdown",
   "metadata": {
    "_uuid": "126514e1a612e528ef901ffb152fe1e0fde64d39"
   },
   "source": [
    "Customer segmentation has the potential to allow companies to address each customer in the most effective way.<br>\n",
    "Segmentation helps a company to Create and communicate targeted marketing startegy that will resonate with specific groups of customers, which improve customer service and establish better customer relationships."
   ]
  },
  {
   "cell_type": "markdown",
   "metadata": {
    "_uuid": "bef400f97c86a37231001b2da662fc293ff5e4e4"
   },
   "source": [
    "### How to Segment Customers?"
   ]
  },
  {
   "cell_type": "markdown",
   "metadata": {
    "_uuid": "cd7ffc4735248c919c270b599d5a924a6f4db8e1"
   },
   "source": [
    "Customer segmentation requires a company to gather specific information – data – about customers and analyze it to identify patterns that can be used to create segments.<br>\n",
    "Some of that can be gathered from purchasing information – job title, geography, products purchased etc."
   ]
  },
  {
   "cell_type": "markdown",
   "metadata": {
    "_uuid": "0563022b7acefaad24239a39d866b54eb32fb55a"
   },
   "source": [
    "**For this demo I am considering a hypothetical Mall Customer**<br>\n",
    "When ever a customer applied for a membership for a Mall Customer. They need to fill the membership form, from which we can get the details like Name, Age, Gender, Annual Income etc. and based on how many times a customer visit the store and how much they spend, I am computing a spending score between 1-100 for each customer."
   ]
  },
  {
   "cell_type": "markdown",
   "metadata": {
    "_uuid": "b19ba6ea45363dcbb2c346e707f08e70fb8630d5"
   },
   "source": [
    "#### Typical information include:\n",
    "* CustomerID\n",
    "* Gender\n",
    "* Age\n",
    "* Annual Income (k$)\n",
    "* Spending Score (1-100)"
   ]
  },
  {
   "cell_type": "markdown",
   "metadata": {
    "_uuid": "c2e76a4af95f8261aeec0cdabeb94f231c404609"
   },
   "source": [
    "## 1. Importing libraries"
   ]
  },
  {
   "cell_type": "code",
   "execution_count": 1,
   "metadata": {
    "_uuid": "c2810a2fabfc04755596b12532ac7ff9462dc866"
   },
   "outputs": [],
   "source": [
    "import numpy as np\n",
    "import pandas as pd\n",
    "import matplotlib.pyplot as plt\n",
    "import sklearn\n",
    "%matplotlib inline"
   ]
  },
  {
   "cell_type": "markdown",
   "metadata": {
    "_uuid": "d3c9052195e4827bddeb867e08a331bd04a59a04"
   },
   "source": [
    "## 2. Loading Dataset"
   ]
  },
  {
   "cell_type": "code",
   "execution_count": 2,
   "metadata": {
    "_uuid": "9ed4c50c9c59105b5d6112fc2e73970dffa73154"
   },
   "outputs": [
    {
     "data": {
      "text/html": [
       "<div>\n",
       "<style scoped>\n",
       "    .dataframe tbody tr th:only-of-type {\n",
       "        vertical-align: middle;\n",
       "    }\n",
       "\n",
       "    .dataframe tbody tr th {\n",
       "        vertical-align: top;\n",
       "    }\n",
       "\n",
       "    .dataframe thead th {\n",
       "        text-align: right;\n",
       "    }\n",
       "</style>\n",
       "<table border=\"1\" class=\"dataframe\">\n",
       "  <thead>\n",
       "    <tr style=\"text-align: right;\">\n",
       "      <th></th>\n",
       "      <th>CustomerID</th>\n",
       "      <th>Gender</th>\n",
       "      <th>Age</th>\n",
       "      <th>Annual Income (k$)</th>\n",
       "      <th>Spending Score (1-100)</th>\n",
       "    </tr>\n",
       "  </thead>\n",
       "  <tbody>\n",
       "    <tr>\n",
       "      <th>0</th>\n",
       "      <td>1</td>\n",
       "      <td>Male</td>\n",
       "      <td>19</td>\n",
       "      <td>15</td>\n",
       "      <td>39</td>\n",
       "    </tr>\n",
       "    <tr>\n",
       "      <th>1</th>\n",
       "      <td>2</td>\n",
       "      <td>Male</td>\n",
       "      <td>21</td>\n",
       "      <td>15</td>\n",
       "      <td>81</td>\n",
       "    </tr>\n",
       "    <tr>\n",
       "      <th>2</th>\n",
       "      <td>3</td>\n",
       "      <td>Female</td>\n",
       "      <td>20</td>\n",
       "      <td>16</td>\n",
       "      <td>6</td>\n",
       "    </tr>\n",
       "    <tr>\n",
       "      <th>3</th>\n",
       "      <td>4</td>\n",
       "      <td>Female</td>\n",
       "      <td>23</td>\n",
       "      <td>16</td>\n",
       "      <td>77</td>\n",
       "    </tr>\n",
       "    <tr>\n",
       "      <th>4</th>\n",
       "      <td>5</td>\n",
       "      <td>Female</td>\n",
       "      <td>31</td>\n",
       "      <td>17</td>\n",
       "      <td>40</td>\n",
       "    </tr>\n",
       "  </tbody>\n",
       "</table>\n",
       "</div>"
      ],
      "text/plain": [
       "   CustomerID  Gender  Age  Annual Income (k$)  Spending Score (1-100)\n",
       "0           1    Male   19                  15                      39\n",
       "1           2    Male   21                  15                      81\n",
       "2           3  Female   20                  16                       6\n",
       "3           4  Female   23                  16                      77\n",
       "4           5  Female   31                  17                      40"
      ]
     },
     "execution_count": 2,
     "metadata": {},
     "output_type": "execute_result"
    }
   ],
   "source": [
    "dataset = pd.read_csv('./input/Mall_Customers.csv')\n",
    "dataset.head()"
   ]
  },
  {
   "cell_type": "markdown",
   "metadata": {
    "_uuid": "dd6f2e5c88ed48dc181f78a3b51e7e2c5ba8ccd2"
   },
   "source": [
    "## 3. Selecting features columns"
   ]
  },
  {
   "cell_type": "code",
   "execution_count": 3,
   "metadata": {
    "_uuid": "095e8cae49f2c21d83968fc6cf54189b0c8718ed"
   },
   "outputs": [
    {
     "data": {
      "text/html": [
       "<div>\n",
       "<style scoped>\n",
       "    .dataframe tbody tr th:only-of-type {\n",
       "        vertical-align: middle;\n",
       "    }\n",
       "\n",
       "    .dataframe tbody tr th {\n",
       "        vertical-align: top;\n",
       "    }\n",
       "\n",
       "    .dataframe thead th {\n",
       "        text-align: right;\n",
       "    }\n",
       "</style>\n",
       "<table border=\"1\" class=\"dataframe\">\n",
       "  <thead>\n",
       "    <tr style=\"text-align: right;\">\n",
       "      <th></th>\n",
       "      <th>Annual Income (k$)</th>\n",
       "      <th>Spending Score (1-100)</th>\n",
       "    </tr>\n",
       "  </thead>\n",
       "  <tbody>\n",
       "    <tr>\n",
       "      <th>0</th>\n",
       "      <td>15</td>\n",
       "      <td>39</td>\n",
       "    </tr>\n",
       "    <tr>\n",
       "      <th>1</th>\n",
       "      <td>15</td>\n",
       "      <td>81</td>\n",
       "    </tr>\n",
       "    <tr>\n",
       "      <th>2</th>\n",
       "      <td>16</td>\n",
       "      <td>6</td>\n",
       "    </tr>\n",
       "    <tr>\n",
       "      <th>3</th>\n",
       "      <td>16</td>\n",
       "      <td>77</td>\n",
       "    </tr>\n",
       "    <tr>\n",
       "      <th>4</th>\n",
       "      <td>17</td>\n",
       "      <td>40</td>\n",
       "    </tr>\n",
       "  </tbody>\n",
       "</table>\n",
       "</div>"
      ],
      "text/plain": [
       "   Annual Income (k$)  Spending Score (1-100)\n",
       "0                  15                      39\n",
       "1                  15                      81\n",
       "2                  16                       6\n",
       "3                  16                      77\n",
       "4                  17                      40"
      ]
     },
     "execution_count": 3,
     "metadata": {},
     "output_type": "execute_result"
    }
   ],
   "source": [
    "df = dataset.iloc[:,3:5]\n",
    "df.head()"
   ]
  },
  {
   "cell_type": "code",
   "execution_count": 4,
   "metadata": {
    "_uuid": "8aead9dd318c860b472eb9136e46d0d50ec46e5c"
   },
   "outputs": [],
   "source": [
    "#Features Matrix\n",
    "X = df.values"
   ]
  },
  {
   "cell_type": "markdown",
   "metadata": {
    "_uuid": "42851e9063991c74a512b8503be75cbeeb9b92ea"
   },
   "source": [
    "## 4. Cluster Analysis"
   ]
  },
  {
   "cell_type": "markdown",
   "metadata": {
    "_uuid": "c857d391823738b0e82eaf5dd30b8e7803f3dafa"
   },
   "source": [
    "## First Step is to find the Number of Cluster\n",
    "### a) Finding optimal number of cluster using dendrogram"
   ]
  },
  {
   "cell_type": "code",
   "execution_count": 5,
   "metadata": {
    "_uuid": "425c1b7cde696eb0b70de7262dbcc5eaf4772d50"
   },
   "outputs": [
    {
     "data": {
      "image/png": "[encoded data removed]",
      "text/plain": [
       "<Figure size 432x288 with 1 Axes>"
      ]
     },
     "metadata": {
      "needs_background": "light"
     },
     "output_type": "display_data"
    }
   ],
   "source": [
    "import scipy\n",
    "from scipy.cluster import hierarchy\n",
    "\n",
    "dendro = hierarchy.dendrogram(hierarchy.linkage(X, method = 'ward'))"
   ]
  },
  {
   "cell_type": "markdown",
   "metadata": {
    "_uuid": "e9baec6b8d8d5e0e981c053da6ce45991aa33405"
   },
   "source": [
    "From the above graph we can see that optimal number of custer will be 5."
   ]
  },
  {
   "cell_type": "markdown",
   "metadata": {
    "_uuid": "133352e55987d1b585e63185fa2bbf74e56e10fe"
   },
   "source": [
    "### b) Finding the optimal number of cluster using Elbow method"
   ]
  },
  {
   "cell_type": "code",
   "execution_count": 13,
   "metadata": {
    "_uuid": "f6eaae7242fe188cd50afa219f6bc1cac016e74d"
   },
   "outputs": [
    {
     "data": {
      "text/plain": [
       "Text(0, 0.5, 'inertia')"
      ]
     },
     "execution_count": 13,
     "metadata": {},
     "output_type": "execute_result"
    },
    {
     "data": {
      "image/png": "[encoded data removed]",
      "text/plain": [
       "<Figure size 432x288 with 1 Axes>"
      ]
     },
     "metadata": {
      "needs_background": "light"
     },
     "output_type": "display_data"
    }
   ],
   "source": [
    "from sklearn.cluster import KMeans\n",
    "\n",
    "inertia = []     # sum of dist. of sample to their closest cluster center\n",
    "for i in range(1,10):\n",
    "    kmeans = KMeans(n_clusters = i, init = 'k-means++')\n",
    "    kmeans.fit(X)\n",
    "    inertia.append(kmeans.inertia_)\n",
    "    \n",
    "plt.plot(range(1,10), inertia)\n",
    "plt.title('Elbow Method')\n",
    "plt.xlabel('No. of cluster')\n",
    "plt.ylabel('inertia' )"
   ]
  },
  {
   "cell_type": "markdown",
   "metadata": {
    "_uuid": "39be685e3f45dc3fff3b453b3b0301344ba9de9b"
   },
   "source": [
    "From elbow method also, the optimal number of cluster will be 5."
   ]
  },
  {
   "cell_type": "markdown",
   "metadata": {
    "_uuid": "6325a2cbcb91fa5939d483b240dd40ef2b14566f"
   },
   "source": [
    "## 5. KMeans Clustering Model with 5 cluster"
   ]
  },
  {
   "cell_type": "code",
   "execution_count": 7,
   "metadata": {
    "_uuid": "7d51df1492f62fdf33fbeb35a456e1c924ab8cbb"
   },
   "outputs": [],
   "source": [
    "kmeans_5 = KMeans(n_clusters=5)\n",
    "kmeans_5.fit(X)\n",
    "\n",
    "cluster_label = kmeans_5.labels_\n",
    "cluster_center = kmeans_5.cluster_centers_"
   ]
  },
  {
   "cell_type": "code",
   "execution_count": 8,
   "metadata": {},
   "outputs": [
    {
     "data": {
      "text/plain": [
       "array([3, 1])"
      ]
     },
     "execution_count": 8,
     "metadata": {},
     "output_type": "execute_result"
    }
   ],
   "source": [
    "cluster_pred = kmeans_5.predict([[20, 50], [30, 80]])\n",
    "cluster_pred"
   ]
  },
  {
   "cell_type": "code",
   "execution_count": 9,
   "metadata": {},
   "outputs": [
    {
     "data": {
      "text/plain": [
       "array([3, 1, 3, 1, 3, 1, 3, 1, 3, 1, 3, 1, 3, 1, 3, 1, 3, 1, 3, 1, 3, 1,\n",
       "       3, 1, 3, 1, 3, 1, 3, 1, 3, 1, 3, 1, 3, 1, 3, 1, 3, 1, 3, 1, 3, 0,\n",
       "       3, 1, 0, 0, 0, 0, 0, 0, 0, 0, 0, 0, 0, 0, 0, 0, 0, 0, 0, 0, 0, 0,\n",
       "       0, 0, 0, 0, 0, 0, 0, 0, 0, 0, 0, 0, 0, 0, 0, 0, 0, 0, 0, 0, 0, 0,\n",
       "       0, 0, 0, 0, 0, 0, 0, 0, 0, 0, 0, 0, 0, 0, 0, 0, 0, 0, 0, 0, 0, 0,\n",
       "       0, 0, 0, 0, 0, 0, 0, 0, 0, 0, 0, 0, 0, 2, 4, 2, 0, 2, 4, 2, 4, 2,\n",
       "       0, 2, 4, 2, 4, 2, 4, 2, 4, 2, 0, 2, 4, 2, 4, 2, 4, 2, 4, 2, 4, 2,\n",
       "       4, 2, 4, 2, 4, 2, 4, 2, 4, 2, 4, 2, 4, 2, 4, 2, 4, 2, 4, 2, 4, 2,\n",
       "       4, 2, 4, 2, 4, 2, 4, 2, 4, 2, 4, 2, 4, 2, 4, 2, 4, 2, 4, 2, 4, 2,\n",
       "       4, 2])"
      ]
     },
     "execution_count": 9,
     "metadata": {},
     "output_type": "execute_result"
    }
   ],
   "source": [
    "cluster_label"
   ]
  },
  {
   "cell_type": "code",
   "execution_count": 10,
   "metadata": {},
   "outputs": [
    {
     "data": {
      "text/plain": [
       "array([[55.2962963 , 49.51851852],\n",
       "       [25.72727273, 79.36363636],\n",
       "       [86.53846154, 82.12820513],\n",
       "       [26.30434783, 20.91304348],\n",
       "       [88.2       , 17.11428571]])"
      ]
     },
     "execution_count": 10,
     "metadata": {},
     "output_type": "execute_result"
    }
   ],
   "source": [
    "cluster_center"
   ]
  },
  {
   "cell_type": "markdown",
   "metadata": {
    "_uuid": "77ca599d35e0e2a0b0e137132745921d139e8f19"
   },
   "source": [
    "## 6. Visualization"
   ]
  },
  {
   "cell_type": "code",
   "execution_count": 11,
   "metadata": {
    "_uuid": "1a509b8843a17b1b5c2991d1dadb883db836cc26"
   },
   "outputs": [
    {
     "data": {
      "image/png": "[encoded data removed]",
      "text/plain": [
       "<Figure size 720x576 with 1 Axes>"
      ]
     },
     "metadata": {
      "needs_background": "light"
     },
     "output_type": "display_data"
    }
   ],
   "source": [
    "# Visualising the clusters\n",
    "plt.figure(figsize=(10,8))\n",
    "\n",
    "plt.scatter(X[cluster_label == 0, 0], X[cluster_label == 0, 1], s = 100, c = 'red', label ='cluster 1' )\n",
    "plt.scatter(X[cluster_label == 1, 0], X[cluster_label == 1, 1], s = 100, c = 'blue', label ='cluster 2' )\n",
    "plt.scatter(X[cluster_label == 2, 0], X[cluster_label == 2, 1], s = 100, c = 'green', label ='cluster 3' )\n",
    "plt.scatter(X[cluster_label == 3, 0], X[cluster_label == 3, 1], s = 100, c = 'cyan', label = 'cluster 4')\n",
    "plt.scatter(X[cluster_label == 4, 0], X[cluster_label == 4, 1], s = 100, c = 'magenta', label = 'cluster 5')\n",
    "plt.scatter(cluster_center[:, 0], cluster_center[:, 1], s = 300, c = 'yellow', label = 'Centroids')\n",
    "\n",
    "plt.title('Clusters of customers')\n",
    "plt.xlabel('Monthly Income ')\n",
    "plt.ylabel('Spending Score (1-100)')\n",
    "plt.legend()\n",
    "plt.show()"
   ]
  },
  {
   "cell_type": "markdown",
   "metadata": {
    "_uuid": "c5f73050851106baafdeaeb2572d9069970abec0",
    "collapsed": true
   },
   "source": [
    "# Visualising the clusters\n",
    "The cluster with high Monthly income and high Spending score can be called as **Target** group <br>\n",
    "similarly the cluster with high income but low spending score can be called as **Careful** group<br>\n",
    "and the cluster with low income and high spending score can be called as **Careless** group<br>\n",
    "and cluster with low income and low spending score can be called as **Sensible** group <br>\n",
    "and one that is in the middle is **Standard** group.\n"
   ]
  },
  {
   "cell_type": "markdown",
   "metadata": {
    "_uuid": "39d8b1e185195e01e23989880bd04a5c5fcd43ac"
   },
   "source": [
    "I have divided the customer into 5 segment namely:\n",
    "1. Standard \n",
    "2. Careless\n",
    "3. Target\n",
    "4. Sensible\n",
    "5. Careful"
   ]
  },
  {
   "cell_type": "markdown",
   "metadata": {
    "_uuid": "00e823f98eda76b6fd13b6311369aea9f1b7a636"
   },
   "source": [
    "#### How this will help?"
   ]
  },
  {
   "cell_type": "markdown",
   "metadata": {
    "_uuid": "82e0d1df41f055c95c9caef25840bd95134d447b"
   },
   "source": [
    "For new promotional offer, instead of calling each customer, first we will focus on \"Target\" group of customer."
   ]
  },
  {
   "cell_type": "markdown",
   "metadata": {
    "_uuid": "f1310f50425d83c1404925a2a7326394855fa3fd"
   },
   "source": [
    "Different type of promotional offer will we suited for different group of customer:-<br>\n",
    "For example a sense of compitition to win a prize will be suited for one type of cluster while, buy one and get one free will be suited for another group of customer."
   ]
  },
  {
   "cell_type": "markdown",
   "metadata": {
    "_uuid": "6700ebc5a40e59b771e59def6d75712360f5fe5c"
   },
   "source": [
    "Based on each cluster of customer we can choose different strategy of promotion."
   ]
  },
  {
   "cell_type": "code",
   "execution_count": null,
   "metadata": {
    "_uuid": "98d6c465ff89e77605d849eb175a2d3fb2126764"
   },
   "outputs": [],
   "source": []
  }
 ],
 "metadata": {
  "kernelspec": {
   "display_name": "Python 3",
   "language": "python",
   "name": "python3"
  },
  "language_info": {
   "codemirror_mode": {
    "name": "ipython",
    "version": 3
   },
   "file_extension": ".py",
   "mimetype": "text/x-python",
   "name": "python",
   "nbconvert_exporter": "python",
   "pygments_lexer": "ipython3",
   "version": "3.6.10"
  }
 },
 "nbformat": 4,
 "nbformat_minor": 1
}
