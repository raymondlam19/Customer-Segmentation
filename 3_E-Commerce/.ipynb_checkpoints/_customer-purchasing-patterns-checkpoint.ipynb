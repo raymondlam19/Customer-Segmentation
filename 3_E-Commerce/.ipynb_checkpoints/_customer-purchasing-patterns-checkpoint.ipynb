{
 "cells": [
  {
   "cell_type": "markdown",
   "metadata": {
    "_cell_guid": "51e956f5-5ade-4be7-bc43-9de256e19d94",
    "_uuid": "d9f5a3347c3427d4c4c1edf1e338f1219b99d25f"
   },
   "source": [
    "# Summary\n",
    "1. No Transaction on Saturday\n",
    "2. November 2011 is the Highest Sales\n",
    "3. December 2011 look suspicious, Usualy the highest sales accure in December (Dataset only until 2011-12-09)\n",
    "4. Day 1 to 8 is the busiest day, after that sale start to decline \n",
    "5. Sales tend to increase from Monday to Thuesday, and decrease \n",
    "6. Majority of sale accure at 10:00 to 15:00, peak at 12:00\n",
    "\n",
    "Most transaction accure during work hours (Heheh)"
   ]
  },
  {
   "cell_type": "code",
   "execution_count": 1,
   "metadata": {
    "_cell_guid": "7285c71a-bacc-4d14-aed9-6ca98c5ced5f",
    "_kg_hide-input": false,
    "_uuid": "bfcf6e4331b77115929e9c6fb3c747aa871417b8",
    "scrolled": true
   },
   "outputs": [],
   "source": [
    "# This Python 3 environment comes with many helpful analytics libraries installed\n",
    "# It is defined by the kaggle/python docker image: https://github.com/kaggle/docker-python\n",
    "# For example, here's several helpful packages to load in \n",
    "\n",
    "import numpy as np # linear algebra\n",
    "import pandas as pd # data processing, CSV file I/O (e.g. pd.read_csv)\n",
    "import matplotlib.pyplot as plt\n",
    "import seaborn as sns\n",
    "from IPython.display import display, HTML\n",
    "\n",
    "%matplotlib inline\n",
    "color = sns.color_palette()"
   ]
  },
  {
   "cell_type": "code",
   "execution_count": 2,
   "metadata": {
    "_cell_guid": "7a989317-210d-4752-9f8c-d9181779c608",
    "_uuid": "698f8fdf3da9c8c4db804c417a28ac7f8d243991"
   },
   "outputs": [
    {
     "name": "stdout",
     "output_type": "stream",
     "text": [
      "<class 'pandas.core.frame.DataFrame'>\n",
      "RangeIndex: 541909 entries, 0 to 541908\n",
      "Data columns (total 8 columns):\n",
      " #   Column       Non-Null Count   Dtype         \n",
      "---  ------       --------------   -----         \n",
      " 0   InvoiceNo    541909 non-null  object        \n",
      " 1   StockCode    541909 non-null  object        \n",
      " 2   Description  540455 non-null  object        \n",
      " 3   Quantity     541909 non-null  int64         \n",
      " 4   InvoiceDate  541909 non-null  datetime64[ns]\n",
      " 5   UnitPrice    541909 non-null  float64       \n",
      " 6   CustomerID   406829 non-null  object        \n",
      " 7   Country      541909 non-null  object        \n",
      "dtypes: datetime64[ns](1), float64(1), int64(1), object(5)\n",
      "memory usage: 33.1+ MB\n"
     ]
    }
   ],
   "source": [
    "df = pd.read_csv('./input/data.csv',encoding=\"ISO-8859-1\",dtype={'CustomerID': str,'InvoiceID': str})\n",
    "df.InvoiceDate = pd.to_datetime(df.InvoiceDate, format=\"%m/%d/%Y %H:%M\")\n",
    "df.info() "
   ]
  },
  {
   "cell_type": "code",
   "execution_count": 3,
   "metadata": {
    "_cell_guid": "0bddaa57-15e6-400b-8fba-a846f0bd61dd",
    "_uuid": "9d4dc5cfd53a8f229515ff35c7782059ece0a411"
   },
   "outputs": [
    {
     "name": "stdout",
     "output_type": "stream",
     "text": [
      "Number of orders canceled: 9288/541909 (1.71%) \n"
     ]
    }
   ],
   "source": [
    "# Credit:https://www.kaggle.com/fabiendaniel/customer-segmentation\n",
    "\n",
    "order_canceled = df['InvoiceNo'].apply(lambda x:int('C' in x))\n",
    "n1 = order_canceled.sum()\n",
    "n2 = df.shape[0]\n",
    "print('Number of orders canceled: {}/{} ({:.2f}%) '.format(n1, n2, n1/n2*100))"
   ]
  },
  {
   "cell_type": "markdown",
   "metadata": {
    "_cell_guid": "271dff03-c7d3-4562-ae99-d538d6c91b4a",
    "_uuid": "f90801d8fbf4875a5f422402a5d549255fbc22eb"
   },
   "source": [
    "There is 10626 transaction that have negative quantity or unitPrice"
   ]
  },
  {
   "cell_type": "code",
   "execution_count": 4,
   "metadata": {
    "_cell_guid": "daa1c680-a28d-484b-a7b9-df54383bb259",
    "_kg_hide-input": true,
    "_uuid": "cc808e01b1b765947521da82bba027a941cf6cdf"
   },
   "outputs": [
    {
     "name": "stdout",
     "output_type": "stream",
     "text": [
      "False    531283\n",
      "True      10626\n",
      "dtype: int64\n"
     ]
    }
   ],
   "source": [
    "# Item sale with Quantity <=0 or unitPrice < 0\n",
    "print (((df['Quantity'] <= 0) | (df['UnitPrice'] < 0)).value_counts())\n",
    "\n",
    "#Delete the negative values \n",
    "df = df.loc[(df['Quantity'] > 0) | (df['UnitPrice'] >= 0)]"
   ]
  },
  {
   "cell_type": "code",
   "execution_count": 5,
   "metadata": {
    "_cell_guid": "1ff92626-6581-4db6-b6de-b1cf755a9e0f",
    "_uuid": "aa84263f889d3d4dc2caa4443a7932b3b518219b"
   },
   "outputs": [
    {
     "name": "stdout",
     "output_type": "stream",
     "text": [
      "16.5 s ± 394 ms per loop (mean ± std. dev. of 7 runs, 1 loop each)\n"
     ]
    }
   ],
   "source": [
    "%%timeit\n",
    "df['yearmonth'] = df['InvoiceDate'].apply(lambda x: (100*x.year) + x.month)\n",
    "df['Week'] = df['InvoiceDate'].apply(lambda x: x.strftime('%W'))\n",
    "df['day'] = df['InvoiceDate'].apply(lambda x: x.strftime('%d'))\n",
    "df['Weekday'] = df['InvoiceDate'].apply(lambda x: x.strftime('%w'))\n",
    "df['hour'] = df['InvoiceDate'].apply(lambda x: x.strftime('%H'))"
   ]
  },
  {
   "cell_type": "markdown",
   "metadata": {
    "_cell_guid": "7c2cdc5b-27fc-4667-8ece-70efcbb52380",
    "_uuid": "bbef717745f6639f27821406a5a23489ad6466ef"
   },
   "source": [
    "## Number of Invoice\n",
    "### Number Invoice group by Month"
   ]
  },
  {
   "cell_type": "code",
   "execution_count": 6,
   "metadata": {
    "_cell_guid": "771a2e3c-06bd-46c7-b2ab-263653571ebc",
    "_uuid": "93fb8b598e22e228fbb55ce876bb7f71c0129aec"
   },
   "outputs": [
    {
     "data": {
      "text/plain": [
       "<matplotlib.axes._subplots.AxesSubplot at 0x245675111d0>"
      ]
     },
     "execution_count": 6,
     "metadata": {},
     "output_type": "execute_result"
    },
    {
     "data": {
      "image/png": "[encoded data removed]",
      "text/plain": [
       "<Figure size 864x432 with 1 Axes>"
      ]
     },
     "metadata": {
      "needs_background": "light"
     },
     "output_type": "display_data"
    }
   ],
   "source": [
    "plt.figure(figsize=(12,6))\n",
    "plt.title(\"Frequency of order by Month\", fontsize=15)\n",
    "InvoiceDate = df.groupby(['InvoiceNo'])['yearmonth'].unique()\n",
    "InvoiceDate.value_counts().sort_index().plot.bar()"
   ]
  },
  {
   "cell_type": "code",
   "execution_count": 7,
   "metadata": {
    "_cell_guid": "a7fb4ae4-263b-4892-b128-4c4f039a13ca",
    "_uuid": "27ad84e39832f0b0466b3e61fcee0f3b0736268f"
   },
   "outputs": [
    {
     "data": {
      "text/plain": [
       "Timestamp('2010-12-23 17:41:00')"
      ]
     },
     "execution_count": 7,
     "metadata": {},
     "output_type": "execute_result"
    }
   ],
   "source": [
    "# 2010-12 Dataset end at\n",
    "df.loc[df['yearmonth'] == 201012]['InvoiceDate'].max()"
   ]
  },
  {
   "cell_type": "code",
   "execution_count": 8,
   "metadata": {
    "_cell_guid": "b80989d9-677c-4717-ad3e-8e56a17592e9",
    "_uuid": "1be223efa6ad49ba41dee8320fc425e41717858b"
   },
   "outputs": [
    {
     "data": {
      "text/plain": [
       "Timestamp('2011-12-09 12:50:00')"
      ]
     },
     "execution_count": 8,
     "metadata": {},
     "output_type": "execute_result"
    }
   ],
   "source": [
    "# 2011-12 Dataset end at\n",
    "df.loc[df['yearmonth'] == 201112]['InvoiceDate'].max()"
   ]
  },
  {
   "cell_type": "markdown",
   "metadata": {
    "_cell_guid": "9afc69bc-1802-4fd3-aaf7-feb3183ff32e",
    "_uuid": "12b630aed09dc2b94d330ec10aeae1999e224eed"
   },
   "source": [
    "### Number Invoice group by Week"
   ]
  },
  {
   "cell_type": "code",
   "execution_count": 9,
   "metadata": {
    "_cell_guid": "0266e6dc-cb91-480f-954d-536781897b33",
    "_kg_hide-input": true,
    "_uuid": "c64ddb44f5f9ed7eea8cbdc580336e7747ef54f9"
   },
   "outputs": [
    {
     "data": {
      "text/plain": [
       "<matplotlib.axes._subplots.AxesSubplot at 0x2450c505da0>"
      ]
     },
     "execution_count": 9,
     "metadata": {},
     "output_type": "execute_result"
    },
    {
     "data": {
      "image/png": "[encoded data removed]",
      "text/plain": [
       "<Figure size 864x432 with 1 Axes>"
      ]
     },
     "metadata": {
      "needs_background": "light"
     },
     "output_type": "display_data"
    }
   ],
   "source": [
    "plt.figure(figsize=(12,6))\n",
    "plt.title(\"Frequency of order by Week\", fontsize=15)\n",
    "InvoiceDate = df.groupby(['InvoiceNo'])['Week'].unique()\n",
    "InvoiceDate.value_counts().sort_index().plot.bar()"
   ]
  },
  {
   "cell_type": "markdown",
   "metadata": {
    "_cell_guid": "1aa2243e-e1ff-424f-8d06-013411d96e90",
    "_uuid": "68fdb5089b2d667304e66c9416cd89d341ef77f6"
   },
   "source": [
    "### Number Invoice group by day"
   ]
  },
  {
   "cell_type": "code",
   "execution_count": 10,
   "metadata": {
    "_cell_guid": "e65e0571-c6fa-47ba-b1c1-4a00fcaed5ca",
    "_kg_hide-input": true,
    "_uuid": "ff7dab14dc96f945a278aa2adf333d9dac3fae97"
   },
   "outputs": [
    {
     "data": {
      "text/plain": [
       "<matplotlib.axes._subplots.AxesSubplot at 0x2456eab3ba8>"
      ]
     },
     "execution_count": 10,
     "metadata": {},
     "output_type": "execute_result"
    },
    {
     "data": {
      "image/png": "[encoded data removed]",
      "text/plain": [
       "<Figure size 864x432 with 1 Axes>"
      ]
     },
     "metadata": {
      "needs_background": "light"
     },
     "output_type": "display_data"
    }
   ],
   "source": [
    "plt.figure(figsize=(12,6))\n",
    "plt.title(\"Frequency of order by Day\", fontsize=15)\n",
    "InvoiceDate = df.groupby(['InvoiceNo'])['day'].unique()\n",
    "InvoiceDate.value_counts().sort_index().plot.bar()"
   ]
  },
  {
   "cell_type": "code",
   "execution_count": 11,
   "metadata": {
    "_cell_guid": "553eeb73-1a06-48de-97f7-fabc6ea01e6d",
    "_kg_hide-input": true,
    "_uuid": "fb601ce90efabeab8fab79fbe518d11d1b3c53e6"
   },
   "outputs": [
    {
     "data": {
      "image/png": "[encoded data removed]",
      "text/plain": [
       "<Figure size 864x432 with 2 Axes>"
      ]
     },
     "metadata": {
      "needs_background": "light"
     },
     "output_type": "display_data"
    }
   ],
   "source": [
    "grouped_df  = df.groupby([\"day\", \"hour\"])[\"InvoiceNo\"].unique().reset_index()\n",
    "grouped_df[\"InvoiceNo\"] = grouped_df[\"InvoiceNo\"].apply(len)\n",
    "\n",
    "#grouped_df = df.groupby([\"Weekday\", \"hour\"])[\"InvoiceNo\"].aggregate(\"count\").reset_index()\n",
    "grouped_df = grouped_df.pivot('day', 'hour', 'InvoiceNo')\n",
    "\n",
    "plt.figure(figsize=(12,6))\n",
    "sns.heatmap(grouped_df,\n",
    "            vmin=-1,\n",
    "            vmax=1,\n",
    "            center=0,\n",
    "            annot=True)\n",
    "plt.title(\"Frequency of Day Vs Hour of day\")\n",
    "plt.show()"
   ]
  },
  {
   "cell_type": "markdown",
   "metadata": {
    "_cell_guid": "65f8c202-b71d-42a9-96ff-7fd0ff0fd030",
    "_uuid": "c7bc1e96fd476262b44e5889923e49c03bd0a14c"
   },
   "source": [
    "### Number Invoice group by Weekday\n",
    "[0] ~ Sunday"
   ]
  },
  {
   "cell_type": "code",
   "execution_count": 12,
   "metadata": {
    "_cell_guid": "deca5af4-90a9-451e-9f96-a33a532872d8",
    "_kg_hide-input": true,
    "_uuid": "45019517e4a58e636b24ae186984fb665f551575"
   },
   "outputs": [
    {
     "data": {
      "text/plain": [
       "<matplotlib.axes._subplots.AxesSubplot at 0x2450c48f198>"
      ]
     },
     "execution_count": 12,
     "metadata": {},
     "output_type": "execute_result"
    },
    {
     "data": {
      "image/png": "[encoded data removed]",
      "text/plain": [
       "<Figure size 864x432 with 1 Axes>"
      ]
     },
     "metadata": {
      "needs_background": "light"
     },
     "output_type": "display_data"
    }
   ],
   "source": [
    "#[0] ~ Sunday\n",
    "plt.figure(figsize=(12,6))\n",
    "plt.title(\"Frequency of order by Weekday\", fontsize=15)\n",
    "InvoiceDate = df.groupby(['InvoiceNo'])['Weekday'].unique()\n",
    "InvoiceDate.value_counts().sort_index().plot.bar()"
   ]
  },
  {
   "cell_type": "markdown",
   "metadata": {
    "_cell_guid": "6b8b272f-3e5a-4d94-84ee-666bba4dbba8",
    "_uuid": "735395371717f738e244a15cb224eaf876e5cb1e"
   },
   "source": [
    "### Number Invoice group by Hour"
   ]
  },
  {
   "cell_type": "code",
   "execution_count": 13,
   "metadata": {
    "_cell_guid": "a26271eb-6692-4d4b-ae3c-0331141978aa",
    "_kg_hide-input": true,
    "_uuid": "9ebdd92dafeb5190e2ee839c991b25b3eed118a4"
   },
   "outputs": [
    {
     "data": {
      "text/plain": [
       "<matplotlib.axes._subplots.AxesSubplot at 0x24506bfce10>"
      ]
     },
     "execution_count": 13,
     "metadata": {},
     "output_type": "execute_result"
    },
    {
     "data": {
      "image/png": "[encoded data removed]",
      "text/plain": [
       "<Figure size 864x432 with 1 Axes>"
      ]
     },
     "metadata": {
      "needs_background": "light"
     },
     "output_type": "display_data"
    }
   ],
   "source": [
    "plt.figure(figsize=(12,6))\n",
    "plt.title(\"Frequency of order by hour of day\", fontsize=15)\n",
    "InvoiceDate = df.groupby(['InvoiceNo'])['hour'].unique()\n",
    "(InvoiceDate.value_counts()).iloc[0:-1].sort_index().plot.bar()"
   ]
  },
  {
   "cell_type": "markdown",
   "metadata": {
    "_cell_guid": "9b7c84d3-cf7e-4e79-a8ea-7bd2288ce9b7",
    "_uuid": "1454a1295949e715a81aa2fe18d334931cea04fa"
   },
   "source": [
    "### Frequency of Day of week Vs Hour of day"
   ]
  },
  {
   "cell_type": "code",
   "execution_count": 14,
   "metadata": {
    "_cell_guid": "69f53bc1-da52-4992-a54a-62f81347161a",
    "_kg_hide-input": true,
    "_uuid": "fa7850ddffa13f23e980a9a0d6b6672f7162ea3c"
   },
   "outputs": [
    {
     "data": {
      "image/png": "[encoded data removed]",
      "text/plain": [
       "<Figure size 864x432 with 2 Axes>"
      ]
     },
     "metadata": {
      "needs_background": "light"
     },
     "output_type": "display_data"
    }
   ],
   "source": [
    "grouped_df  = df.groupby([\"Weekday\", \"hour\"])[\"InvoiceNo\"].unique().reset_index()\n",
    "grouped_df[\"InvoiceNo\"] = grouped_df[\"InvoiceNo\"].apply(len)\n",
    "\n",
    "#grouped_df = df.groupby([\"Weekday\", \"hour\"])[\"InvoiceNo\"].aggregate(\"count\").reset_index()\n",
    "grouped_df = grouped_df.pivot('Weekday', 'hour', 'InvoiceNo')\n",
    "\n",
    "plt.figure(figsize=(12,6))\n",
    "sns.heatmap(grouped_df)\n",
    "plt.title(\"Frequency of Day of week Vs Hour of day\")\n",
    "plt.show()"
   ]
  },
  {
   "cell_type": "markdown",
   "metadata": {
    "_cell_guid": "9f2b9047-9a16-4178-ad79-2b87d1884597",
    "_uuid": "bf0bb83406598bac1a29ec1524a6166e6722d60a",
    "collapsed": true
   },
   "source": [
    "## Total Sales (First order vs Reorder)"
   ]
  },
  {
   "cell_type": "code",
   "execution_count": 17,
   "metadata": {
    "_kg_hide-input": true
   },
   "outputs": [],
   "source": [
    "df = pd.read_csv('./input/data.csv',encoding=\"ISO-8859-1\",dtype={'CustomerID': str,'InvoiceID': str})\n",
    "df.InvoiceDate = pd.to_datetime(df.InvoiceDate, format=\"%m/%d/%Y %H:%M\")\n",
    "\n",
    "#remove the negative values and replace with nan\n",
    "df.loc[df['Quantity'] <= 0, 'Quantity'] = np.nan\n",
    "df.loc[df['UnitPrice'] < 0, 'UnitPrice'] = np.nan\n",
    "\n",
    "df.dropna(inplace=True)\n",
    "\n",
    "df['total_dollars'] = df['Quantity']*df['UnitPrice']\n",
    "\n",
    "df['yearmonth'] = df['InvoiceDate'].apply(lambda x: (100*x.year) + x.month)\n",
    "df['Week'] = df['InvoiceDate'].apply(lambda x: x.strftime('%W'))\n",
    "df['day'] = df['InvoiceDate'].apply(lambda x: x.strftime('%d'))\n",
    "df['Weekday'] = df['InvoiceDate'].apply(lambda x: x.strftime('%w'))\n",
    "df['hour'] = df['InvoiceDate'].apply(lambda x: x.strftime('%H'))"
   ]
  },
  {
   "cell_type": "code",
   "execution_count": 18,
   "metadata": {
    "_kg_hide-input": true,
    "_kg_hide-output": true
   },
   "outputs": [
    {
     "data": {
      "text/html": [
       "<div>\n",
       "<style scoped>\n",
       "    .dataframe tbody tr th:only-of-type {\n",
       "        vertical-align: middle;\n",
       "    }\n",
       "\n",
       "    .dataframe tbody tr th {\n",
       "        vertical-align: top;\n",
       "    }\n",
       "\n",
       "    .dataframe thead th {\n",
       "        text-align: right;\n",
       "    }\n",
       "</style>\n",
       "<table border=\"1\" class=\"dataframe\">\n",
       "  <thead>\n",
       "    <tr style=\"text-align: right;\">\n",
       "      <th></th>\n",
       "      <th>InvoiceNo</th>\n",
       "      <th>StockCode</th>\n",
       "      <th>Description</th>\n",
       "      <th>Quantity</th>\n",
       "      <th>InvoiceDate</th>\n",
       "      <th>UnitPrice</th>\n",
       "      <th>CustomerID</th>\n",
       "      <th>Country</th>\n",
       "      <th>total_dollars</th>\n",
       "      <th>yearmonth</th>\n",
       "      <th>Week</th>\n",
       "      <th>day</th>\n",
       "      <th>Weekday</th>\n",
       "      <th>hour</th>\n",
       "      <th>reorder</th>\n",
       "    </tr>\n",
       "  </thead>\n",
       "  <tbody>\n",
       "    <tr>\n",
       "      <th>61619</th>\n",
       "      <td>541431</td>\n",
       "      <td>23166</td>\n",
       "      <td>MEDIUM CERAMIC TOP STORAGE JAR</td>\n",
       "      <td>74215.0</td>\n",
       "      <td>2011-01-18 10:01:00</td>\n",
       "      <td>1.04</td>\n",
       "      <td>12346</td>\n",
       "      <td>United Kingdom</td>\n",
       "      <td>77183.6</td>\n",
       "      <td>201101</td>\n",
       "      <td>03</td>\n",
       "      <td>18</td>\n",
       "      <td>2</td>\n",
       "      <td>10</td>\n",
       "      <td>0</td>\n",
       "    </tr>\n",
       "    <tr>\n",
       "      <th>148306</th>\n",
       "      <td>549222</td>\n",
       "      <td>16008</td>\n",
       "      <td>SMALL FOLDING SCISSOR(POINTED EDGE)</td>\n",
       "      <td>24.0</td>\n",
       "      <td>2011-04-07 10:43:00</td>\n",
       "      <td>0.25</td>\n",
       "      <td>12347</td>\n",
       "      <td>Iceland</td>\n",
       "      <td>6.0</td>\n",
       "      <td>201104</td>\n",
       "      <td>14</td>\n",
       "      <td>07</td>\n",
       "      <td>4</td>\n",
       "      <td>10</td>\n",
       "      <td>0</td>\n",
       "    </tr>\n",
       "    <tr>\n",
       "      <th>220583</th>\n",
       "      <td>556201</td>\n",
       "      <td>17021</td>\n",
       "      <td>NAMASTE SWAGAT INCENSE</td>\n",
       "      <td>36.0</td>\n",
       "      <td>2011-06-09 13:01:00</td>\n",
       "      <td>0.30</td>\n",
       "      <td>12347</td>\n",
       "      <td>Iceland</td>\n",
       "      <td>10.8</td>\n",
       "      <td>201106</td>\n",
       "      <td>23</td>\n",
       "      <td>09</td>\n",
       "      <td>4</td>\n",
       "      <td>13</td>\n",
       "      <td>0</td>\n",
       "    </tr>\n",
       "    <tr>\n",
       "      <th>148289</th>\n",
       "      <td>549222</td>\n",
       "      <td>20665</td>\n",
       "      <td>RED RETROSPOT PURSE</td>\n",
       "      <td>6.0</td>\n",
       "      <td>2011-04-07 10:43:00</td>\n",
       "      <td>2.95</td>\n",
       "      <td>12347</td>\n",
       "      <td>Iceland</td>\n",
       "      <td>17.7</td>\n",
       "      <td>201104</td>\n",
       "      <td>14</td>\n",
       "      <td>07</td>\n",
       "      <td>4</td>\n",
       "      <td>10</td>\n",
       "      <td>0</td>\n",
       "    </tr>\n",
       "    <tr>\n",
       "      <th>72249</th>\n",
       "      <td>542237</td>\n",
       "      <td>20719</td>\n",
       "      <td>WOODLAND CHARLOTTE BAG</td>\n",
       "      <td>10.0</td>\n",
       "      <td>2011-01-26 14:30:00</td>\n",
       "      <td>0.85</td>\n",
       "      <td>12347</td>\n",
       "      <td>Iceland</td>\n",
       "      <td>8.5</td>\n",
       "      <td>201101</td>\n",
       "      <td>04</td>\n",
       "      <td>26</td>\n",
       "      <td>3</td>\n",
       "      <td>14</td>\n",
       "      <td>0</td>\n",
       "    </tr>\n",
       "  </tbody>\n",
       "</table>\n",
       "</div>"
      ],
      "text/plain": [
       "       InvoiceNo StockCode                          Description  Quantity  \\\n",
       "61619     541431     23166       MEDIUM CERAMIC TOP STORAGE JAR   74215.0   \n",
       "148306    549222     16008  SMALL FOLDING SCISSOR(POINTED EDGE)      24.0   \n",
       "220583    556201     17021               NAMASTE SWAGAT INCENSE      36.0   \n",
       "148289    549222     20665                 RED RETROSPOT PURSE        6.0   \n",
       "72249     542237     20719               WOODLAND CHARLOTTE BAG      10.0   \n",
       "\n",
       "               InvoiceDate  UnitPrice CustomerID         Country  \\\n",
       "61619  2011-01-18 10:01:00       1.04      12346  United Kingdom   \n",
       "148306 2011-04-07 10:43:00       0.25      12347         Iceland   \n",
       "220583 2011-06-09 13:01:00       0.30      12347         Iceland   \n",
       "148289 2011-04-07 10:43:00       2.95      12347         Iceland   \n",
       "72249  2011-01-26 14:30:00       0.85      12347         Iceland   \n",
       "\n",
       "        total_dollars  yearmonth Week day Weekday hour  reorder  \n",
       "61619         77183.6     201101   03  18       2   10        0  \n",
       "148306            6.0     201104   14  07       4   10        0  \n",
       "220583           10.8     201106   23  09       4   13        0  \n",
       "148289           17.7     201104   14  07       4   10        0  \n",
       "72249             8.5     201101   04  26       3   14        0  "
      ]
     },
     "execution_count": 18,
     "metadata": {},
     "output_type": "execute_result"
    }
   ],
   "source": [
    "#First Item Order\n",
    "df_sort = df.sort_values(['CustomerID', 'StockCode', 'InvoiceDate'])\n",
    "df_sort_shift1 = df_sort.shift(1)\n",
    "df_sort_reorder = df_sort.copy()\n",
    "df_sort_reorder['reorder'] = np.where(df_sort['StockCode'] == df_sort_shift1['StockCode'], 1,0)\n",
    "df_sort_reorder.head(5)"
   ]
  },
  {
   "cell_type": "markdown",
   "metadata": {
    "_kg_hide-input": false
   },
   "source": [
    "### Top 10 Reorder Item"
   ]
  },
  {
   "cell_type": "code",
   "execution_count": 19,
   "metadata": {
    "_kg_hide-input": true
   },
   "outputs": [
    {
     "data": {
      "text/html": [
       "<div>\n",
       "<style scoped>\n",
       "    .dataframe tbody tr th:only-of-type {\n",
       "        vertical-align: middle;\n",
       "    }\n",
       "\n",
       "    .dataframe tbody tr th {\n",
       "        vertical-align: top;\n",
       "    }\n",
       "\n",
       "    .dataframe thead th {\n",
       "        text-align: right;\n",
       "    }\n",
       "</style>\n",
       "<table border=\"1\" class=\"dataframe\">\n",
       "  <thead>\n",
       "    <tr style=\"text-align: right;\">\n",
       "      <th></th>\n",
       "      <th>reorder</th>\n",
       "    </tr>\n",
       "    <tr>\n",
       "      <th>Description</th>\n",
       "      <th></th>\n",
       "    </tr>\n",
       "  </thead>\n",
       "  <tbody>\n",
       "    <tr>\n",
       "      <th>WHITE HANGING HEART T-LIGHT HOLDER</th>\n",
       "      <td>1172</td>\n",
       "    </tr>\n",
       "    <tr>\n",
       "      <th>JUMBO BAG RED RETROSPOT</th>\n",
       "      <td>983</td>\n",
       "    </tr>\n",
       "    <tr>\n",
       "      <th>REGENCY CAKESTAND 3 TIER</th>\n",
       "      <td>843</td>\n",
       "    </tr>\n",
       "    <tr>\n",
       "      <th>LUNCH BAG RED RETROSPOT</th>\n",
       "      <td>785</td>\n",
       "    </tr>\n",
       "    <tr>\n",
       "      <th>POSTAGE</th>\n",
       "      <td>768</td>\n",
       "    </tr>\n",
       "    <tr>\n",
       "      <th>ASSORTED COLOUR BIRD ORNAMENT</th>\n",
       "      <td>730</td>\n",
       "    </tr>\n",
       "    <tr>\n",
       "      <th>PARTY BUNTING</th>\n",
       "      <td>689</td>\n",
       "    </tr>\n",
       "    <tr>\n",
       "      <th>LUNCH BAG  BLACK SKULL.</th>\n",
       "      <td>647</td>\n",
       "    </tr>\n",
       "    <tr>\n",
       "      <th>LUNCH BAG SUKI DESIGN</th>\n",
       "      <td>621</td>\n",
       "    </tr>\n",
       "    <tr>\n",
       "      <th>SET OF 3 CAKE TINS PANTRY DESIGN</th>\n",
       "      <td>519</td>\n",
       "    </tr>\n",
       "  </tbody>\n",
       "</table>\n",
       "</div>"
      ],
      "text/plain": [
       "                                    reorder\n",
       "Description                                \n",
       "WHITE HANGING HEART T-LIGHT HOLDER     1172\n",
       "JUMBO BAG RED RETROSPOT                 983\n",
       "REGENCY CAKESTAND 3 TIER                843\n",
       "LUNCH BAG RED RETROSPOT                 785\n",
       "POSTAGE                                 768\n",
       "ASSORTED COLOUR BIRD ORNAMENT           730\n",
       "PARTY BUNTING                           689\n",
       "LUNCH BAG  BLACK SKULL.                 647\n",
       "LUNCH BAG SUKI DESIGN                   621\n",
       "SET OF 3 CAKE TINS PANTRY DESIGN        519"
      ]
     },
     "execution_count": 19,
     "metadata": {},
     "output_type": "execute_result"
    }
   ],
   "source": [
    "#Top 10 Reorder item\n",
    "pd.DataFrame((df_sort_reorder.groupby(['Description'])['reorder'].sum())).sort_values('reorder', ascending = False).head(10)"
   ]
  },
  {
   "cell_type": "markdown",
   "metadata": {},
   "source": [
    "### Sales by Month"
   ]
  },
  {
   "cell_type": "code",
   "execution_count": 20,
   "metadata": {
    "_kg_hide-input": true
   },
   "outputs": [
    {
     "data": {
      "text/plain": [
       "<matplotlib.axes._subplots.AxesSubplot at 0x24505577358>"
      ]
     },
     "execution_count": 20,
     "metadata": {},
     "output_type": "execute_result"
    },
    {
     "data": {
      "image/png": "[encoded data removed]",
      "text/plain": [
       "<Figure size 1008x648 with 2 Axes>"
      ]
     },
     "metadata": {
      "needs_background": "light"
     },
     "output_type": "display_data"
    }
   ],
   "source": [
    "notreorder = (df_sort_reorder[df_sort_reorder['reorder'] == 0 ].groupby(['yearmonth'])['total_dollars'].sum())\n",
    "reorder = (df_sort_reorder[df_sort_reorder['reorder'] == 1 ].groupby(['yearmonth'])['total_dollars'].sum())\n",
    "\n",
    "yearmonth = pd.DataFrame([notreorder , reorder], index=['First Buy', 'Reorder']).transpose()\n",
    "\n",
    "fig, axes = plt.subplots(nrows=1, ncols=2, figsize=(14,9))\n",
    "\n",
    "yearmonth.plot.bar(stacked=True, ax=axes[0])\n",
    "yearmonth.plot.box(ax=axes[1])"
   ]
  },
  {
   "cell_type": "markdown",
   "metadata": {},
   "source": [
    "### Sales by Week"
   ]
  },
  {
   "cell_type": "code",
   "execution_count": 21,
   "metadata": {
    "_kg_hide-input": true
   },
   "outputs": [
    {
     "data": {
      "text/plain": [
       "<matplotlib.axes._subplots.AxesSubplot at 0x24508a2f320>"
      ]
     },
     "execution_count": 21,
     "metadata": {},
     "output_type": "execute_result"
    },
    {
     "data": {
      "image/png": "[encoded data removed]",
      "text/plain": [
       "<Figure size 1008x648 with 2 Axes>"
      ]
     },
     "metadata": {
      "needs_background": "light"
     },
     "output_type": "display_data"
    }
   ],
   "source": [
    "notreorder = (df_sort_reorder[df_sort_reorder['reorder'] == 0 ].groupby(['Week'])['total_dollars'].sum())\n",
    "reorder = (df_sort_reorder[df_sort_reorder['reorder'] == 1 ].groupby(['Week'])['total_dollars'].sum())\n",
    "\n",
    "yearmonth = pd.DataFrame([notreorder , reorder], index=['First Buy', 'Reorder']).transpose()\n",
    "\n",
    "fig, axes = plt.subplots(nrows=1, ncols=2, figsize=(14,9))\n",
    "\n",
    "yearmonth.plot.bar(stacked=True, ax=axes[0])\n",
    "yearmonth.plot.box(ax=axes[1])"
   ]
  },
  {
   "cell_type": "markdown",
   "metadata": {},
   "source": [
    "### Sales by Day"
   ]
  },
  {
   "cell_type": "code",
   "execution_count": 22,
   "metadata": {
    "_kg_hide-input": true
   },
   "outputs": [
    {
     "data": {
      "text/plain": [
       "<matplotlib.axes._subplots.AxesSubplot at 0x24506e84518>"
      ]
     },
     "execution_count": 22,
     "metadata": {},
     "output_type": "execute_result"
    },
    {
     "data": {
      "image/png": "[encoded data removed]",
      "text/plain": [
       "<Figure size 1008x648 with 2 Axes>"
      ]
     },
     "metadata": {
      "needs_background": "light"
     },
     "output_type": "display_data"
    }
   ],
   "source": [
    "notreorder = (df_sort_reorder[df_sort_reorder['reorder'] == 0 ].groupby(['day'])['total_dollars'].sum())\n",
    "reorder = (df_sort_reorder[df_sort_reorder['reorder'] == 1 ].groupby(['day'])['total_dollars'].sum())\n",
    "\n",
    "yearmonth = pd.DataFrame([notreorder , reorder], index=['First Buy', 'Reorder']).transpose()\n",
    "\n",
    "fig, axes = plt.subplots(nrows=1, ncols=2, figsize=(14,9))\n",
    "\n",
    "yearmonth.plot.bar(stacked=True, ax=axes[0])\n",
    "yearmonth.plot.box(ax=axes[1])"
   ]
  },
  {
   "cell_type": "code",
   "execution_count": null,
   "metadata": {},
   "outputs": [],
   "source": []
  },
  {
   "cell_type": "code",
   "execution_count": null,
   "metadata": {},
   "outputs": [],
   "source": []
  }
 ],
 "metadata": {
  "kernelspec": {
   "display_name": "Python 3",
   "language": "python",
   "name": "python3"
  },
  "language_info": {
   "codemirror_mode": {
    "name": "ipython",
    "version": 3
   },
   "file_extension": ".py",
   "mimetype": "text/x-python",
   "name": "python",
   "nbconvert_exporter": "python",
   "pygments_lexer": "ipython3",
   "version": "3.6.10"
  }
 },
 "nbformat": 4,
 "nbformat_minor": 1
}
