{
 "cells": [
  {
   "cell_type": "markdown",
   "metadata": {},
   "source": [
    "[Kaggle - Predict Telco Customer Churn](https://www.kaggle.com/blastchar/telco-customer-churn)\n",
    "\n",
    "[Read csv from notebook 02062020_EDA](http://localhost:8888/notebooks/Kaggle/Customer-Segmentation/2_Telco-Customer-Churn/02062020_EDA.ipynb)"
   ]
  },
  {
   "cell_type": "code",
   "execution_count": 1,
   "metadata": {},
   "outputs": [],
   "source": [
    "import numpy as np\n",
    "import pandas as pd\n",
    "import matplotlib.pyplot as plt\n",
    "import seaborn as sns\n",
    "\n",
    "import warnings\n",
    "warnings.filterwarnings('ignore')\n",
    "\n",
    "SEED = 1999"
   ]
  },
  {
   "cell_type": "code",
   "execution_count": 2,
   "metadata": {},
   "outputs": [
    {
     "data": {
      "text/html": [
       "<div>\n",
       "<style scoped>\n",
       "    .dataframe tbody tr th:only-of-type {\n",
       "        vertical-align: middle;\n",
       "    }\n",
       "\n",
       "    .dataframe tbody tr th {\n",
       "        vertical-align: top;\n",
       "    }\n",
       "\n",
       "    .dataframe thead th {\n",
       "        text-align: right;\n",
       "    }\n",
       "</style>\n",
       "<table border=\"1\" class=\"dataframe\">\n",
       "  <thead>\n",
       "    <tr style=\"text-align: right;\">\n",
       "      <th></th>\n",
       "      <th>tenure</th>\n",
       "      <th>MonthlyCharges</th>\n",
       "      <th>TotalCharges</th>\n",
       "      <th>Churn</th>\n",
       "      <th>gender_Male</th>\n",
       "      <th>SeniorCitizen_Yes</th>\n",
       "      <th>Partner_Yes</th>\n",
       "      <th>Dependents_Yes</th>\n",
       "      <th>PhoneService_Yes</th>\n",
       "      <th>MultipleLines_Yes</th>\n",
       "      <th>...</th>\n",
       "      <th>DeviceProtection_Yes</th>\n",
       "      <th>TechSupport_Yes</th>\n",
       "      <th>StreamingTV_Yes</th>\n",
       "      <th>StreamingMovies_Yes</th>\n",
       "      <th>Contract_One year</th>\n",
       "      <th>Contract_Two year</th>\n",
       "      <th>PaperlessBilling_Yes</th>\n",
       "      <th>PaymentMethod_Credit card (automatic)</th>\n",
       "      <th>PaymentMethod_Electronic check</th>\n",
       "      <th>PaymentMethod_Mailed check</th>\n",
       "    </tr>\n",
       "  </thead>\n",
       "  <tbody>\n",
       "    <tr>\n",
       "      <th>0</th>\n",
       "      <td>-1.277445</td>\n",
       "      <td>-1.160323</td>\n",
       "      <td>-0.992611</td>\n",
       "      <td>No</td>\n",
       "      <td>0</td>\n",
       "      <td>0</td>\n",
       "      <td>1</td>\n",
       "      <td>0</td>\n",
       "      <td>0</td>\n",
       "      <td>0</td>\n",
       "      <td>...</td>\n",
       "      <td>0</td>\n",
       "      <td>0</td>\n",
       "      <td>0</td>\n",
       "      <td>0</td>\n",
       "      <td>0</td>\n",
       "      <td>0</td>\n",
       "      <td>1</td>\n",
       "      <td>0</td>\n",
       "      <td>1</td>\n",
       "      <td>0</td>\n",
       "    </tr>\n",
       "    <tr>\n",
       "      <th>1</th>\n",
       "      <td>0.066327</td>\n",
       "      <td>-0.259629</td>\n",
       "      <td>-0.172165</td>\n",
       "      <td>No</td>\n",
       "      <td>1</td>\n",
       "      <td>0</td>\n",
       "      <td>0</td>\n",
       "      <td>0</td>\n",
       "      <td>1</td>\n",
       "      <td>0</td>\n",
       "      <td>...</td>\n",
       "      <td>1</td>\n",
       "      <td>0</td>\n",
       "      <td>0</td>\n",
       "      <td>0</td>\n",
       "      <td>1</td>\n",
       "      <td>0</td>\n",
       "      <td>0</td>\n",
       "      <td>0</td>\n",
       "      <td>0</td>\n",
       "      <td>1</td>\n",
       "    </tr>\n",
       "    <tr>\n",
       "      <th>2</th>\n",
       "      <td>-1.236724</td>\n",
       "      <td>-0.362660</td>\n",
       "      <td>-0.958066</td>\n",
       "      <td>Yes</td>\n",
       "      <td>1</td>\n",
       "      <td>0</td>\n",
       "      <td>0</td>\n",
       "      <td>0</td>\n",
       "      <td>1</td>\n",
       "      <td>0</td>\n",
       "      <td>...</td>\n",
       "      <td>0</td>\n",
       "      <td>0</td>\n",
       "      <td>0</td>\n",
       "      <td>0</td>\n",
       "      <td>0</td>\n",
       "      <td>0</td>\n",
       "      <td>1</td>\n",
       "      <td>0</td>\n",
       "      <td>0</td>\n",
       "      <td>1</td>\n",
       "    </tr>\n",
       "    <tr>\n",
       "      <th>3</th>\n",
       "      <td>0.514251</td>\n",
       "      <td>-0.746535</td>\n",
       "      <td>-0.193672</td>\n",
       "      <td>No</td>\n",
       "      <td>1</td>\n",
       "      <td>0</td>\n",
       "      <td>0</td>\n",
       "      <td>0</td>\n",
       "      <td>0</td>\n",
       "      <td>0</td>\n",
       "      <td>...</td>\n",
       "      <td>1</td>\n",
       "      <td>1</td>\n",
       "      <td>0</td>\n",
       "      <td>0</td>\n",
       "      <td>1</td>\n",
       "      <td>0</td>\n",
       "      <td>0</td>\n",
       "      <td>0</td>\n",
       "      <td>0</td>\n",
       "      <td>0</td>\n",
       "    </tr>\n",
       "    <tr>\n",
       "      <th>4</th>\n",
       "      <td>-1.236724</td>\n",
       "      <td>0.197365</td>\n",
       "      <td>-0.938874</td>\n",
       "      <td>Yes</td>\n",
       "      <td>0</td>\n",
       "      <td>0</td>\n",
       "      <td>0</td>\n",
       "      <td>0</td>\n",
       "      <td>1</td>\n",
       "      <td>0</td>\n",
       "      <td>...</td>\n",
       "      <td>0</td>\n",
       "      <td>0</td>\n",
       "      <td>0</td>\n",
       "      <td>0</td>\n",
       "      <td>0</td>\n",
       "      <td>0</td>\n",
       "      <td>1</td>\n",
       "      <td>0</td>\n",
       "      <td>1</td>\n",
       "      <td>0</td>\n",
       "    </tr>\n",
       "  </tbody>\n",
       "</table>\n",
       "<p>5 rows × 24 columns</p>\n",
       "</div>"
      ],
      "text/plain": [
       "     tenure  MonthlyCharges  TotalCharges Churn  gender_Male  \\\n",
       "0 -1.277445       -1.160323     -0.992611    No            0   \n",
       "1  0.066327       -0.259629     -0.172165    No            1   \n",
       "2 -1.236724       -0.362660     -0.958066   Yes            1   \n",
       "3  0.514251       -0.746535     -0.193672    No            1   \n",
       "4 -1.236724        0.197365     -0.938874   Yes            0   \n",
       "\n",
       "   SeniorCitizen_Yes  Partner_Yes  Dependents_Yes  PhoneService_Yes  \\\n",
       "0                  0            1               0                 0   \n",
       "1                  0            0               0                 1   \n",
       "2                  0            0               0                 1   \n",
       "3                  0            0               0                 0   \n",
       "4                  0            0               0                 1   \n",
       "\n",
       "   MultipleLines_Yes  ...  DeviceProtection_Yes  TechSupport_Yes  \\\n",
       "0                  0  ...                     0                0   \n",
       "1                  0  ...                     1                0   \n",
       "2                  0  ...                     0                0   \n",
       "3                  0  ...                     1                1   \n",
       "4                  0  ...                     0                0   \n",
       "\n",
       "   StreamingTV_Yes  StreamingMovies_Yes  Contract_One year  Contract_Two year  \\\n",
       "0                0                    0                  0                  0   \n",
       "1                0                    0                  1                  0   \n",
       "2                0                    0                  0                  0   \n",
       "3                0                    0                  1                  0   \n",
       "4                0                    0                  0                  0   \n",
       "\n",
       "   PaperlessBilling_Yes  PaymentMethod_Credit card (automatic)  \\\n",
       "0                     1                                      0   \n",
       "1                     0                                      0   \n",
       "2                     1                                      0   \n",
       "3                     0                                      0   \n",
       "4                     1                                      0   \n",
       "\n",
       "   PaymentMethod_Electronic check  PaymentMethod_Mailed check  \n",
       "0                               1                           0  \n",
       "1                               0                           1  \n",
       "2                               0                           1  \n",
       "3                               0                           0  \n",
       "4                               1                           0  \n",
       "\n",
       "[5 rows x 24 columns]"
      ]
     },
     "metadata": {},
     "output_type": "display_data"
    },
    {
     "name": "stdout",
     "output_type": "stream",
     "text": [
      "(7043, 24)\n"
     ]
    }
   ],
   "source": [
    "df_combined = pd.read_csv('./input/df_combined.csv')\n",
    "\n",
    "display(df_combined.head())\n",
    "print(df_combined.shape)"
   ]
  },
  {
   "cell_type": "markdown",
   "metadata": {},
   "source": [
    "# First of all, train_test_split"
   ]
  },
  {
   "cell_type": "code",
   "execution_count": 3,
   "metadata": {},
   "outputs": [
    {
     "name": "stdout",
     "output_type": "stream",
     "text": [
      "X_train.shape: (5634, 23)\n",
      "y_train.shape: (5634,)\n",
      "X_val.shape: (1409, 23)\n",
      "y_val.shape: (1409,)\n"
     ]
    }
   ],
   "source": [
    "from sklearn.model_selection import train_test_split\n",
    "\n",
    "X = df_combined.drop('Churn', axis=1)\n",
    "y = df_combined['Churn']\n",
    "\n",
    "X_train, X_val, y_train, y_val = train_test_split(X, y,\n",
    "                                                  test_size = 0.2,\n",
    "                                                  stratify = y,\n",
    "                                                  random_state = SEED)\n",
    "\n",
    "print('X_train.shape:', X_train.shape)\n",
    "print('y_train.shape:', y_train.shape)\n",
    "print('X_val.shape:', X_val.shape)\n",
    "print('y_val.shape:', y_val.shape)"
   ]
  },
  {
   "cell_type": "markdown",
   "metadata": {},
   "source": [
    "# 1) Test for different models using CV (find the best algorithm)"
   ]
  },
  {
   "cell_type": "code",
   "execution_count": 4,
   "metadata": {},
   "outputs": [],
   "source": [
    "# Models\n",
    "from sklearn.linear_model import LogisticRegression\n",
    "from sklearn.naive_bayes import GaussianNB\n",
    "from sklearn.neighbors import KNeighborsClassifier\n",
    "from sklearn.svm import SVC\n",
    "from sklearn.ensemble import RandomForestClassifier\n",
    "from xgboost import XGBClassifier\n",
    "\n",
    "# Cross Validation\n",
    "from sklearn.model_selection import cross_validate"
   ]
  },
  {
   "cell_type": "code",
   "execution_count": 5,
   "metadata": {},
   "outputs": [
    {
     "name": "stderr",
     "output_type": "stream",
     "text": [
      "[Parallel(n_jobs=1)]: Using backend SequentialBackend with 1 concurrent workers.\n",
      "[Parallel(n_jobs=1)]: Done   3 out of   3 | elapsed:    0.2s finished\n",
      "[Parallel(n_jobs=1)]: Using backend SequentialBackend with 1 concurrent workers.\n",
      "[Parallel(n_jobs=1)]: Done   3 out of   3 | elapsed:    0.0s finished\n",
      "[Parallel(n_jobs=1)]: Using backend SequentialBackend with 1 concurrent workers.\n",
      "[Parallel(n_jobs=1)]: Done   3 out of   3 | elapsed:    1.9s finished\n",
      "[Parallel(n_jobs=1)]: Using backend SequentialBackend with 1 concurrent workers.\n",
      "[Parallel(n_jobs=1)]: Done   3 out of   3 | elapsed:    3.0s finished\n",
      "[Parallel(n_jobs=1)]: Using backend SequentialBackend with 1 concurrent workers.\n",
      "[Parallel(n_jobs=1)]: Done   3 out of   3 | elapsed:    1.5s finished\n",
      "[Parallel(n_jobs=1)]: Using backend SequentialBackend with 1 concurrent workers.\n",
      "[Parallel(n_jobs=1)]: Done   3 out of   3 | elapsed:    0.8s finished\n"
     ]
    },
    {
     "data": {
      "text/plain": [
       "{'LogisticRegression': {'fit_time': array([0.16001391, 0.03897858, 0.03198195]),\n",
       "  'score_time': array([0.00599527, 0.00599575, 0.00299811]),\n",
       "  'test_score': array([0.80366269, 0.8028109 , 0.8078398 ]),\n",
       "  'train_score': array([0.8085197 , 0.80724175, 0.80366269])},\n",
       " 'GaussianNB': {'fit_time': array([0.00799537, 0.00799489, 0.00699568]),\n",
       "  'score_time': array([0.0059967 , 0.00399756, 0.00399733]),\n",
       "  'test_score': array([0.75468484, 0.7427598 , 0.75159778]),\n",
       "  'train_score': array([0.7514377 , 0.75079872, 0.75063884])},\n",
       " 'KNeighborsClassifier': {'fit_time': array([0.03398061, 0.02798414, 0.02898312]),\n",
       "  'score_time': array([0.20488238, 0.24787045, 0.20688033]),\n",
       "  'test_score': array([0.7725724 , 0.75425894, 0.76991905]),\n",
       "  'train_score': array([0.84451544, 0.84153355, 0.83752129])},\n",
       " 'SVC': {'fit_time': array([0.59866953, 0.53770947, 0.54768705]),\n",
       "  'score_time': array([0.16089511, 0.15490675, 0.15391111]),\n",
       "  'test_score': array([0.80451448, 0.80025554, 0.80187473]),\n",
       "  'train_score': array([0.81277955, 0.81767838, 0.81665247])},\n",
       " 'RandomForestClassifier': {'fit_time': array([0.40077043, 0.42175794, 0.4047668 ]),\n",
       "  'score_time': array([0.04397464, 0.04198933, 0.04197598]),\n",
       "  'test_score': array([0.79131175, 0.79003407, 0.80017043]),\n",
       "  'train_score': array([0.99765708, 0.99829606, 0.99829642])},\n",
       " 'XGBClassifier': {'fit_time': array([0.29584241, 0.26186275, 0.26085091]),\n",
       "  'score_time': array([0.00899529, 0.00899529, 0.00999403]),\n",
       "  'test_score': array([0.81175468, 0.80195911, 0.80230081]),\n",
       "  'train_score': array([0.82662407, 0.82023429, 0.82410562])}}"
      ]
     },
     "metadata": {},
     "output_type": "display_data"
    }
   ],
   "source": [
    "models = [LogisticRegression(),\n",
    "          GaussianNB(),\n",
    "          KNeighborsClassifier(),\n",
    "          SVC(),\n",
    "          RandomForestClassifier(),\n",
    "          XGBClassifier()]\n",
    "\n",
    "# Perform cv across models\n",
    "cv_result={}\n",
    "for model in models:\n",
    "    cv_result[model.__class__.__name__] = cross_validate(model, X, y,\n",
    "                                                         cv=3,\n",
    "                                                         scoring='accuracy',\n",
    "                                                         return_train_score=1,\n",
    "                                                         verbose=1)\n",
    "\n",
    "display(cv_result)"
   ]
  },
  {
   "cell_type": "code",
   "execution_count": 6,
   "metadata": {},
   "outputs": [
    {
     "data": {
      "text/html": [
       "<div>\n",
       "<style scoped>\n",
       "    .dataframe tbody tr th:only-of-type {\n",
       "        vertical-align: middle;\n",
       "    }\n",
       "\n",
       "    .dataframe tbody tr th {\n",
       "        vertical-align: top;\n",
       "    }\n",
       "\n",
       "    .dataframe thead th {\n",
       "        text-align: right;\n",
       "    }\n",
       "</style>\n",
       "<table border=\"1\" class=\"dataframe\">\n",
       "  <thead>\n",
       "    <tr style=\"text-align: right;\">\n",
       "      <th></th>\n",
       "      <th>fit_time</th>\n",
       "      <th>score_time</th>\n",
       "      <th>test_score</th>\n",
       "      <th>train_score</th>\n",
       "    </tr>\n",
       "  </thead>\n",
       "  <tbody>\n",
       "    <tr>\n",
       "      <th>LogisticRegression</th>\n",
       "      <td>0.076991</td>\n",
       "      <td>0.004996</td>\n",
       "      <td>0.804771</td>\n",
       "      <td>0.806475</td>\n",
       "    </tr>\n",
       "    <tr>\n",
       "      <th>GaussianNB</th>\n",
       "      <td>0.007662</td>\n",
       "      <td>0.004664</td>\n",
       "      <td>0.749681</td>\n",
       "      <td>0.750958</td>\n",
       "    </tr>\n",
       "    <tr>\n",
       "      <th>KNeighborsClassifier</th>\n",
       "      <td>0.030316</td>\n",
       "      <td>0.219878</td>\n",
       "      <td>0.765583</td>\n",
       "      <td>0.841190</td>\n",
       "    </tr>\n",
       "    <tr>\n",
       "      <th>SVC</th>\n",
       "      <td>0.561355</td>\n",
       "      <td>0.156571</td>\n",
       "      <td>0.802215</td>\n",
       "      <td>0.815703</td>\n",
       "    </tr>\n",
       "    <tr>\n",
       "      <th>RandomForestClassifier</th>\n",
       "      <td>0.409098</td>\n",
       "      <td>0.042647</td>\n",
       "      <td>0.793839</td>\n",
       "      <td>0.998083</td>\n",
       "    </tr>\n",
       "    <tr>\n",
       "      <th>XGBClassifier</th>\n",
       "      <td>0.272852</td>\n",
       "      <td>0.009328</td>\n",
       "      <td>0.805338</td>\n",
       "      <td>0.823655</td>\n",
       "    </tr>\n",
       "  </tbody>\n",
       "</table>\n",
       "</div>"
      ],
      "text/plain": [
       "                        fit_time  score_time  test_score  train_score\n",
       "LogisticRegression      0.076991    0.004996    0.804771     0.806475\n",
       "GaussianNB              0.007662    0.004664    0.749681     0.750958\n",
       "KNeighborsClassifier    0.030316    0.219878    0.765583     0.841190\n",
       "SVC                     0.561355    0.156571    0.802215     0.815703\n",
       "RandomForestClassifier  0.409098    0.042647    0.793839     0.998083\n",
       "XGBClassifier           0.272852    0.009328    0.805338     0.823655"
      ]
     },
     "metadata": {},
     "output_type": "display_data"
    }
   ],
   "source": [
    "cv_result_df = pd.DataFrame(cv_result).T\n",
    "cv_result_df = cv_result_df.applymap(lambda x: np.mean(x))   # apply np.mean to each cell\n",
    "\n",
    "display(cv_result_df)"
   ]
  },
  {
   "cell_type": "markdown",
   "metadata": {},
   "source": [
    "**LogisticRegression has the second best performance and fast**"
   ]
  },
  {
   "cell_type": "markdown",
   "metadata": {},
   "source": [
    "# 2) GridSearch over LR (find the best hyperparams)"
   ]
  },
  {
   "cell_type": "code",
   "execution_count": 10,
   "metadata": {},
   "outputs": [
    {
     "name": "stdout",
     "output_type": "stream",
     "text": [
      "best_params: {'C': 1.0}\n",
      "best_score: 0.804771130010716\n",
      "best_estimator: LogisticRegression(C=1.0, class_weight=None, dual=False, fit_intercept=True,\n",
      "                   intercept_scaling=1, l1_ratio=None, max_iter=100,\n",
      "                   multi_class='auto', n_jobs=None, penalty='l2',\n",
      "                   random_state=None, solver='lbfgs', tol=0.0001, verbose=0,\n",
      "                   warm_start=False)\n",
      "\n",
      "mean_train_score: 0.806474713333926\n",
      "std_train_score: 0.002055706183896214\n",
      "mean_test_score: 0.804771130010716\n",
      "std_test_score: 0.0021975618094776535\n"
     ]
    }
   ],
   "source": [
    "from sklearn.model_selection import GridSearchCV\n",
    "\n",
    "param_grid = {\"C\": np.logspace(-3, 3, 7)}\n",
    "\n",
    "lr = LogisticRegression()\n",
    "clf = GridSearchCV(lr,\n",
    "                   param_grid,\n",
    "                   scoring='accuracy',\n",
    "                   cv=3,\n",
    "                   return_train_score=True)\n",
    "clf.fit(X, y)\n",
    "\n",
    "# save best model\n",
    "best_model = clf.best_estimator_\n",
    "\n",
    "print('best_params:', clf.best_params_)\n",
    "print('best_score:', clf.best_score_)\n",
    "print('best_estimator:', clf.best_estimator_)\n",
    "\n",
    "print('\\nmean_train_score:', clf.cv_results_['mean_train_score'][clf.best_index_])\n",
    "print('std_train_score:', clf.cv_results_['std_train_score'][clf.best_index_])\n",
    "print('mean_test_score:', clf.cv_results_['mean_test_score'][clf.best_index_])\n",
    "print('std_test_score:', clf.cv_results_['std_test_score'][clf.best_index_])"
   ]
  },
  {
   "cell_type": "markdown",
   "metadata": {},
   "source": [
    "**best params: {'C': 1}**"
   ]
  },
  {
   "cell_type": "markdown",
   "metadata": {},
   "source": [
    "# 3) Model coefficients using LR"
   ]
  },
  {
   "cell_type": "code",
   "execution_count": 93,
   "metadata": {},
   "outputs": [
    {
     "data": {
      "text/plain": [
       "InternetService_Fiber optic              0.839192\n",
       "TotalCharges                             0.683929\n",
       "PaperlessBilling_Yes                     0.344116\n",
       "PaymentMethod_Electronic check           0.307582\n",
       "MultipleLines_Yes                        0.264617\n",
       "StreamingMovies_Yes                      0.239127\n",
       "StreamingTV_Yes                          0.228001\n",
       "SeniorCitizen_Yes                        0.215488\n",
       "Partner_Yes                             -0.001568\n",
       "gender_Male                             -0.023149\n",
       "DeviceProtection_Yes                    -0.033365\n",
       "PaymentMethod_Mailed check              -0.055782\n",
       "PaymentMethod_Credit card (automatic)   -0.087696\n",
       "MonthlyCharges                          -0.109444\n",
       "OnlineBackup_Yes                        -0.152728\n",
       "Dependents_Yes                          -0.154028\n",
       "TechSupport_Yes                         -0.361668\n",
       "OnlineSecurity_Yes                      -0.384863\n",
       "PhoneService_Yes                        -0.541254\n",
       "Contract_One year                       -0.657028\n",
       "InternetService_No                      -0.864788\n",
       "Contract_Two year                       -1.340856\n",
       "tenure                                  -1.428167\n",
       "dtype: float64"
      ]
     },
     "execution_count": 93,
     "metadata": {},
     "output_type": "execute_result"
    }
   ],
   "source": [
    "model_coef = pd.Series(np.squeeze(best_model.coef_),\n",
    "                       index = df_combined.drop('Churn', axis=1).columns).sort_values(ascending=False)\n",
    "\n",
    "model_coef"
   ]
  },
  {
   "cell_type": "code",
   "execution_count": 94,
   "metadata": {},
   "outputs": [
    {
     "data": {
      "text/plain": [
       "<matplotlib.axes._subplots.AxesSubplot at 0x1a011084780>"
      ]
     },
     "execution_count": 94,
     "metadata": {},
     "output_type": "execute_result"
    },
    {
     "data": {
      "image/png": "[encoded data removed]",
      "text/plain": [
       "<Figure size 864x720 with 1 Axes>"
      ]
     },
     "metadata": {
      "needs_background": "light"
     },
     "output_type": "display_data"
    }
   ],
   "source": [
    "plt.figure(figsize=(12,10))\n",
    "plt.title('model_coef using LR')\n",
    "\n",
    "model_coef.plot(kind='barh')"
   ]
  },
  {
   "cell_type": "markdown",
   "metadata": {},
   "source": [
    "**Observations:**\n",
    "\n",
    "Negative model_coef means unlikeliness of churn happening.\n",
    "\n",
    "+ve model_coef (lead to higher churn proability):\n",
    "* InternetService using Fiber optic\n",
    "* Higher TotalCharges \n",
    "* Using PaperlessBilling\n",
    "\n",
    "-ve model_coef (lead to churn not happening):\n",
    "* longer tenure\n",
    "* Contract using Two year\n",
    "* Without using internet service"
   ]
  },
  {
   "cell_type": "markdown",
   "metadata": {},
   "source": [
    "# Feature importances using RandomForest"
   ]
  },
  {
   "cell_type": "code",
   "execution_count": 95,
   "metadata": {},
   "outputs": [],
   "source": [
    "# Set RandomForest Hyperparams\n",
    "params = {'random_state': 0, 'n_jobs': 4, 'n_estimators': 5000, 'max_depth': 8}\n",
    "\n",
    "# Fit RandomForest Classifier\n",
    "clf = RandomForestClassifier(**params)\n",
    "clf = clf.fit(X_train, y_train)"
   ]
  },
  {
   "cell_type": "code",
   "execution_count": 98,
   "metadata": {},
   "outputs": [
    {
     "name": "stdout",
     "output_type": "stream",
     "text": [
      "0.7977288857345636\n"
     ]
    }
   ],
   "source": [
    "# Prediction & evaluation\n",
    "\n",
    "from sklearn import metrics\n",
    "\n",
    "y_val_pred = clf.predict(X_val)\n",
    "print(metrics.accuracy_score(y_val, y_val_pred))"
   ]
  },
  {
   "cell_type": "code",
   "execution_count": 57,
   "metadata": {},
   "outputs": [
    {
     "data": {
      "text/plain": [
       "tenure                                   0.202992\n",
       "TotalCharges                             0.153396\n",
       "MonthlyCharges                           0.114112\n",
       "InternetService_Fiber optic              0.106708\n",
       "Contract_Two year                        0.077882\n",
       "PaymentMethod_Electronic check           0.071189\n",
       "Contract_One year                        0.039530\n",
       "InternetService_No                       0.038923\n",
       "OnlineSecurity_Yes                       0.027893\n",
       "PaperlessBilling_Yes                     0.025510\n",
       "TechSupport_Yes                          0.024893\n",
       "SeniorCitizen_Yes                        0.012279\n",
       "OnlineBackup_Yes                         0.012177\n",
       "StreamingMovies_Yes                      0.011821\n",
       "MultipleLines_Yes                        0.011153\n",
       "Partner_Yes                              0.010272\n",
       "Dependents_Yes                           0.010128\n",
       "StreamingTV_Yes                          0.009614\n",
       "gender_Male                              0.009089\n",
       "DeviceProtection_Yes                     0.008795\n",
       "PaymentMethod_Credit card (automatic)    0.008421\n",
       "PaymentMethod_Mailed check               0.007047\n",
       "PhoneService_Yes                         0.006176\n",
       "dtype: float64"
      ]
     },
     "execution_count": 57,
     "metadata": {},
     "output_type": "execute_result"
    }
   ],
   "source": [
    "# features importances\n",
    "feature_importances = pd.Series(clf.feature_importances_,\n",
    "                                index = X_train.columns).sort_values(ascending=False)\n",
    "\n",
    "feature_importances"
   ]
  },
  {
   "cell_type": "code",
   "execution_count": 90,
   "metadata": {},
   "outputs": [
    {
     "data": {
      "text/plain": [
       "<matplotlib.axes._subplots.AxesSubplot at 0x1a01d154780>"
      ]
     },
     "execution_count": 90,
     "metadata": {},
     "output_type": "execute_result"
    },
    {
     "data": {
      "image/png": "[encoded data removed]",
      "text/plain": [
       "<Figure size 864x720 with 1 Axes>"
      ]
     },
     "metadata": {
      "needs_background": "light"
     },
     "output_type": "display_data"
    }
   ],
   "source": [
    "plt.figure(figsize=(12,10))\n",
    "plt.title(\"Feature importance using RF\")\n",
    "\n",
    "feature_importances.sort_values(ascending=True).plot(kind='barh')"
   ]
  },
  {
   "cell_type": "markdown",
   "metadata": {},
   "source": [
    "**Observations:**\n",
    "\n",
    "* tenure, total charges, monthly contract are the most important predictor variables to predict churn"
   ]
  },
  {
   "cell_type": "code",
   "execution_count": null,
   "metadata": {},
   "outputs": [],
   "source": []
  }
 ],
 "metadata": {
  "kernelspec": {
   "display_name": "Python 3",
   "language": "python",
   "name": "python3"
  },
  "language_info": {
   "codemirror_mode": {
    "name": "ipython",
    "version": 3
   },
   "file_extension": ".py",
   "mimetype": "text/x-python",
   "name": "python",
   "nbconvert_exporter": "python",
   "pygments_lexer": "ipython3",
   "version": "3.6.10"
  }
 },
 "nbformat": 4,
 "nbformat_minor": 4
}
